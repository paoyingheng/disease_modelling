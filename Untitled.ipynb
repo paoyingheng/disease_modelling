{
 "cells": [
  {
   "cell_type": "code",
   "execution_count": 5,
   "id": "7f387ed9-a2f1-47bd-ae6b-3dfd6f055b1d",
   "metadata": {},
   "outputs": [
    {
     "name": "stderr",
     "output_type": "stream",
     "text": [
      "Installing package into ‘/home/hengie/R/x86_64-pc-linux-gnu-library/4.1’\n",
      "(as ‘lib’ is unspecified)\n",
      "\n",
      "Installing package into ‘/home/hengie/R/x86_64-pc-linux-gnu-library/4.1’\n",
      "(as ‘lib’ is unspecified)\n",
      "\n",
      "also installing the dependencies ‘colorspace’, ‘farver’, ‘labeling’, ‘munsell’, ‘R6’, ‘RColorBrewer’, ‘viridisLite’, ‘fansi’, ‘magrittr’, ‘pkgconfig’, ‘gtable’, ‘isoband’, ‘scales’, ‘tibble’, ‘withr’\n",
      "\n",
      "\n",
      "Installing package into ‘/home/hengie/R/x86_64-pc-linux-gnu-library/4.1’\n",
      "(as ‘lib’ is unspecified)\n",
      "\n",
      "also installing the dependencies ‘stringi’, ‘plyr’, ‘Rcpp’, ‘stringr’\n",
      "\n",
      "\n"
     ]
    }
   ],
   "source": [
    "install.packages('deSolve')\n",
    "install.packages('ggplot2')\n",
    "install.packages('reshape2')"
   ]
  },
  {
   "cell_type": "code",
   "execution_count": null,
   "id": "64dadfe7-a7e9-406a-9479-d0998528f4fe",
   "metadata": {},
   "outputs": [],
   "source": [
    " "
   ]
  },
  {
   "cell_type": "code",
   "execution_count": null,
   "id": "e7c299f9-b219-48f0-98de-b9cf0a3b72b0",
   "metadata": {},
   "outputs": [],
   "source": []
  },
  {
   "cell_type": "code",
   "execution_count": null,
   "id": "c5a36f36-4f88-4ca1-95fb-5cb469f85f88",
   "metadata": {},
   "outputs": [],
   "source": []
  },
  {
   "cell_type": "code",
   "execution_count": null,
   "id": "938c9584-c3e8-4476-bb9e-9672a80ddb5c",
   "metadata": {},
   "outputs": [],
   "source": []
  },
  {
   "cell_type": "code",
   "execution_count": null,
   "id": "6f10836f-9a46-4800-85c5-2b084820d2e1",
   "metadata": {},
   "outputs": [],
   "source": []
  }
 ],
 "metadata": {
  "kernelspec": {
   "display_name": "R",
   "language": "R",
   "name": "ir"
  },
  "language_info": {
   "codemirror_mode": "r",
   "file_extension": ".r",
   "mimetype": "text/x-r-source",
   "name": "R",
   "pygments_lexer": "r",
   "version": "4.1.2"
  }
 },
 "nbformat": 4,
 "nbformat_minor": 5
}
