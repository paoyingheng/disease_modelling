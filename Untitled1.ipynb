{
 "cells": [
  {
   "cell_type": "code",
   "execution_count": 1,
   "id": "5924ae91-62d1-4a73-b3b7-69270e1b8525",
   "metadata": {},
   "outputs": [],
   "source": [
    "library(deSolve)\n",
    "library(ggplot2)\n",
    "library(reshape2)"
   ]
  },
  {
   "cell_type": "code",
   "execution_count": 2,
   "id": "f545cfa2-9efc-45d9-8409-ba43e4145a27",
   "metadata": {},
   "outputs": [],
   "source": [
    "# MODEL INPUTS\n",
    "\n",
    "# Specify the total population size. We are assuming that Disease X is occuring in a city with a\n",
    "# population of 1000000\n",
    "N <- 1000000"
   ]
  },
  {
   "cell_type": "code",
   "execution_count": 1,
   "id": "5fd79bd6-e8ba-4098-b3f4-28751300a7c9",
   "metadata": {},
   "outputs": [
    {
     "name": "stderr",
     "output_type": "stream",
     "text": [
      "Installing package into ‘/home/hengie/R/x86_64-pc-linux-gnu-library/4.1’\n",
      "(as ‘lib’ is unspecified)\n",
      "\n",
      "also installing the dependencies ‘rprojroot’, ‘RcppTOML’, ‘here’, ‘png’, ‘rappdirs’\n",
      "\n",
      "\n"
     ]
    }
   ],
   "source": [
    "install.packages(\"reticulate\")"
   ]
  },
  {
   "cell_type": "code",
   "execution_count": 2,
   "id": "cfcb7708-2ef3-4866-a428-faaf36a40a37",
   "metadata": {},
   "outputs": [
    {
     "ename": "ERROR",
     "evalue": "Error in cat(\"<img src=\\\"data:image/png;base64,\", base64_string, \"\\\" alt=\\\"Model Structure\\\">\"): object 'base64_string' not found\n",
     "output_type": "error",
     "traceback": [
      "Error in cat(\"<img src=\\\"data:image/png;base64,\", base64_string, \"\\\" alt=\\\"Model Structure\\\">\"): object 'base64_string' not found\nTraceback:\n",
      "1. .handleSimpleError(function (cnd) \n . {\n .     watcher$capture_plot_and_output()\n .     cnd <- sanitize_call(cnd)\n .     watcher$push(cnd)\n .     switch(on_error, continue = invokeRestart(\"eval_continue\"), \n .         stop = invokeRestart(\"eval_stop\"), error = invokeRestart(\"eval_error\", \n .             cnd))\n . }, \"object 'base64_string' not found\", base::quote(cat(\"<img src=\\\"data:image/png;base64,\", \n .     base64_string, \"\\\" alt=\\\"Model Structure\\\">\")))"
     ]
    }
   ],
   "source": [
    "cat('<img src=\"data:image/png;base64,', base64_string, '\" alt=\"Model Structure\">')\n"
   ]
  },
  {
   "cell_type": "code",
   "execution_count": null,
   "id": "4f9a3b12-6655-43ae-b765-919e036f1ef2",
   "metadata": {},
   "outputs": [],
   "source": []
  },
  {
   "cell_type": "code",
   "execution_count": null,
   "id": "b7dcd349-d913-4b7f-9cc9-9b8c536f78be",
   "metadata": {},
   "outputs": [],
   "source": []
  },
  {
   "cell_type": "code",
   "execution_count": null,
   "id": "70524e3b-c0c9-4e04-ad4b-e70a810f5e93",
   "metadata": {},
   "outputs": [],
   "source": []
  },
  {
   "cell_type": "code",
   "execution_count": null,
   "id": "40c64803-0ab0-428c-b7af-20bdad1dbf1f",
   "metadata": {},
   "outputs": [],
   "source": []
  },
  {
   "cell_type": "code",
   "execution_count": null,
   "id": "93844549-ae1c-4541-91e5-53f441c1a494",
   "metadata": {},
   "outputs": [],
   "source": []
  }
 ],
 "metadata": {
  "kernelspec": {
   "display_name": "R",
   "language": "R",
   "name": "ir"
  },
  "language_info": {
   "codemirror_mode": "r",
   "file_extension": ".r",
   "mimetype": "text/x-r-source",
   "name": "R",
   "pygments_lexer": "r",
   "version": "4.1.2"
  }
 },
 "nbformat": 4,
 "nbformat_minor": 5
}
