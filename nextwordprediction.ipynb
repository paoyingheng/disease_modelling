{
 "cells": [
  {
   "cell_type": "code",
   "execution_count": 2,
   "id": "25e7a89b-662b-4184-95ed-27c31cccc874",
   "metadata": {},
   "outputs": [
    {
     "name": "stderr",
     "output_type": "stream",
     "text": [
      "Installing package into ‘/home/hengie/R/x86_64-pc-linux-gnu-library/4.1’\n",
      "(as ‘lib’ is unspecified)\n",
      "\n",
      "Warning message:\n",
      "“package ‘Matrix’ is not available for this version of R\n",
      "‘Matrix’ version 1.7-1 is in the repositories but depends on R (>= 4.4.0)\n",
      "‘Matrix’ version 1.7-1 is in the repositories but depends on R (>= 4.5)\n",
      "\n",
      "A version of this package for your version of R might be available elsewhere,\n",
      "see the ideas at\n",
      "https://cran.r-project.org/doc/manuals/r-patched/R-admin.html#Installing-packages”\n",
      "Installing package into ‘/home/hengie/R/x86_64-pc-linux-gnu-library/4.1’\n",
      "(as ‘lib’ is unspecified)\n",
      "\n",
      "Warning message in install.packages(\"xml2\"):\n",
      "“installation of package ‘xml2’ had non-zero exit status”\n"
     ]
    }
   ],
   "source": [
    "install.packages(\"Matrix\")\n",
    "install.packages(\"xml2\")"
   ]
  },
  {
   "cell_type": "code",
   "execution_count": 3,
   "id": "02336101-2a6a-40f6-a876-20a2e6be7d7c",
   "metadata": {},
   "outputs": [
    {
     "ename": "ERROR",
     "evalue": "Error in library(quanteda): there is no package called ‘quanteda’\n",
     "output_type": "error",
     "traceback": [
      "Error in library(quanteda): there is no package called ‘quanteda’\nTraceback:\n",
      "1. stop(packageNotFoundError(package, lib.loc, sys.call()))"
     ]
    }
   ],
   "source": [
    "library(quanteda)\n"
   ]
  },
  {
   "cell_type": "code",
   "execution_count": 4,
   "id": "b3bc7499-719e-4b5a-be98-95a86a9aad29",
   "metadata": {},
   "outputs": [
    {
     "ename": "ERROR",
     "evalue": "Error in library(readtext): there is no package called ‘readtext’\n",
     "output_type": "error",
     "traceback": [
      "Error in library(readtext): there is no package called ‘readtext’\nTraceback:\n",
      "1. stop(packageNotFoundError(package, lib.loc, sys.call()))"
     ]
    }
   ],
   "source": [
    "library(readtext)\n"
   ]
  },
  {
   "cell_type": "code",
   "execution_count": 5,
   "id": "56a0b5de-f225-451c-a835-a80b23e41c64",
   "metadata": {},
   "outputs": [
    {
     "ename": "ERROR",
     "evalue": "Error in library(tidyverse): there is no package called ‘tidyverse’\n",
     "output_type": "error",
     "traceback": [
      "Error in library(tidyverse): there is no package called ‘tidyverse’\nTraceback:\n",
      "1. stop(packageNotFoundError(package, lib.loc, sys.call()))"
     ]
    }
   ],
   "source": [
    "library (tidyverse) \n"
   ]
  },
  {
   "cell_type": "code",
   "execution_count": 6,
   "id": "ae351c27-837a-4b3e-9006-bb832326e6dd",
   "metadata": {},
   "outputs": [
    {
     "ename": "ERROR",
     "evalue": "Error in library(ggpubr): there is no package called ‘ggpubr’\n",
     "output_type": "error",
     "traceback": [
      "Error in library(ggpubr): there is no package called ‘ggpubr’\nTraceback:\n",
      "1. stop(packageNotFoundError(package, lib.loc, sys.call()))"
     ]
    }
   ],
   "source": [
    "library(ggpubr) \n"
   ]
  },
  {
   "cell_type": "code",
   "execution_count": 7,
   "id": "ed9d1270-612c-458d-a7de-a8682380441f",
   "metadata": {},
   "outputs": [],
   "source": [
    "library(knitr)\n"
   ]
  },
  {
   "cell_type": "code",
   "execution_count": 8,
   "id": "261e90e7-b7ae-46ad-b3e1-4e901432218e",
   "metadata": {},
   "outputs": [
    {
     "ename": "ERROR",
     "evalue": "Error in library(kableExtra): there is no package called ‘kableExtra’\n",
     "output_type": "error",
     "traceback": [
      "Error in library(kableExtra): there is no package called ‘kableExtra’\nTraceback:\n",
      "1. stop(packageNotFoundError(package, lib.loc, sys.call()))"
     ]
    }
   ],
   "source": [
    "library(kableExtra)"
   ]
  },
  {
   "cell_type": "code",
   "execution_count": 9,
   "id": "e6e11bd0-2db9-4f6a-ac7d-76b678a31a96",
   "metadata": {},
   "outputs": [
    {
     "name": "stderr",
     "output_type": "stream",
     "text": [
      "Warning message in file(con, \"r\"):\n",
      "“cannot open file '/home/hengie/final/en_US/en_US.twitter.txt': No such file or directory”\n"
     ]
    },
    {
     "ename": "ERROR",
     "evalue": "Error in file(con, \"r\"): cannot open the connection\n",
     "output_type": "error",
     "traceback": [
      "Error in file(con, \"r\"): cannot open the connection\nTraceback:\n",
      "1. file(con, \"r\")",
      "2. .handleSimpleError(function (cnd) \n . {\n .     watcher$capture_plot_and_output()\n .     cnd <- sanitize_call(cnd)\n .     watcher$push(cnd)\n .     switch(on_error, continue = invokeRestart(\"eval_continue\"), \n .         stop = invokeRestart(\"eval_stop\"), error = invokeRestart(\"eval_error\", \n .             cnd))\n . }, \"cannot open the connection\", base::quote(file(con, \"r\")))"
     ]
    }
   ],
   "source": [
    "# Read the files and have a look at some basic document information\n",
    "twt <- readLines(\"~/final/en_US/en_US.twitter.txt\")\n",
    "blg <- readLines(\"~/final/en_US/en_US.blogs.txt\")\n",
    "nws <- readLines(\"~/final/en_US/en_US.news.txt\")"
   ]
  },
  {
   "cell_type": "code",
   "execution_count": null,
   "id": "934a2f6c-bcc8-4533-b27f-52ea861fda9a",
   "metadata": {},
   "outputs": [],
   "source": []
  },
  {
   "cell_type": "code",
   "execution_count": null,
   "id": "dc6d6505-6005-41c1-91e5-7124fdac82bb",
   "metadata": {},
   "outputs": [],
   "source": []
  },
  {
   "cell_type": "code",
   "execution_count": null,
   "id": "4f5202d4-dd92-41c8-bbc1-72dfe723a00b",
   "metadata": {},
   "outputs": [],
   "source": []
  },
  {
   "cell_type": "code",
   "execution_count": null,
   "id": "41fc9279-afc7-4faf-b8b4-7e15511ef085",
   "metadata": {},
   "outputs": [],
   "source": []
  },
  {
   "cell_type": "code",
   "execution_count": null,
   "id": "9de143d4-eef1-4925-8de0-7d86018d9c5f",
   "metadata": {},
   "outputs": [],
   "source": []
  },
  {
   "cell_type": "code",
   "execution_count": null,
   "id": "8ab46e42-15fa-4f85-ae5c-2e31fc575847",
   "metadata": {},
   "outputs": [],
   "source": []
  },
  {
   "cell_type": "code",
   "execution_count": null,
   "id": "2492426d-b093-4ea5-9f5e-01f4ebfe3629",
   "metadata": {},
   "outputs": [],
   "source": []
  }
 ],
 "metadata": {
  "kernelspec": {
   "display_name": "R",
   "language": "R",
   "name": "ir"
  },
  "language_info": {
   "codemirror_mode": "r",
   "file_extension": ".r",
   "mimetype": "text/x-r-source",
   "name": "R",
   "pygments_lexer": "r",
   "version": "4.1.2"
  }
 },
 "nbformat": 4,
 "nbformat_minor": 5
}
